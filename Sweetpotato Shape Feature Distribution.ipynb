{
 "cells": [
  {
   "cell_type": "code",
   "execution_count": 1,
   "metadata": {},
   "outputs": [],
   "source": [
    "import seaborn as sb\n",
    "import pandas as pd\n",
    "import numpy as np"
   ]
  },
  {
   "cell_type": "markdown",
   "metadata": {},
   "source": [
    "## Read the shape feature data"
   ]
  },
  {
   "cell_type": "code",
   "execution_count": 2,
   "metadata": {},
   "outputs": [],
   "source": [
    "filepath='G:\\\\My Drive\\\\NCSU_Research\\\\SAS-BAE_Project\\\\Codes\\\\Sweet Potato\\\\Potato 3D Shape Estimation\\\\OldCsvs\\\\sp_shapefeatures_may152020.csv'"
   ]
  },
  {
   "cell_type": "code",
   "execution_count": 3,
   "metadata": {
    "scrolled": false
   },
   "outputs": [
    {
     "data": {
      "text/html": [
       "<div>\n",
       "<style scoped>\n",
       "    .dataframe tbody tr th:only-of-type {\n",
       "        vertical-align: middle;\n",
       "    }\n",
       "\n",
       "    .dataframe tbody tr th {\n",
       "        vertical-align: top;\n",
       "    }\n",
       "\n",
       "    .dataframe thead th {\n",
       "        text-align: right;\n",
       "    }\n",
       "</style>\n",
       "<table border=\"1\" class=\"dataframe\">\n",
       "  <thead>\n",
       "    <tr style=\"text-align: right;\">\n",
       "      <th></th>\n",
       "      <th>Title</th>\n",
       "      <th>AxialLength</th>\n",
       "      <th>TipLength</th>\n",
       "      <th>Curvature</th>\n",
       "      <th>CurvatuerCorrected</th>\n",
       "      <th>MaxDiameter</th>\n",
       "      <th>LWRatio</th>\n",
       "      <th>Tail1</th>\n",
       "      <th>Tail2</th>\n",
       "      <th>TailPct</th>\n",
       "      <th>...</th>\n",
       "      <th>Dist25</th>\n",
       "      <th>Dist26</th>\n",
       "      <th>Dist27</th>\n",
       "      <th>Dist28</th>\n",
       "      <th>Dist29</th>\n",
       "      <th>Dist30</th>\n",
       "      <th>Dist31</th>\n",
       "      <th>Clone</th>\n",
       "      <th>Cultivar</th>\n",
       "      <th>PlotNum</th>\n",
       "    </tr>\n",
       "  </thead>\n",
       "  <tbody>\n",
       "    <tr>\n",
       "      <th>0</th>\n",
       "      <td>18NCGT0014HCR_BEAUREGARD_G2_2006_NIR_V1_O0329.TIF</td>\n",
       "      <td>5.678797</td>\n",
       "      <td>5.476555</td>\n",
       "      <td>1.036929</td>\n",
       "      <td>1.049038</td>\n",
       "      <td>3.361789</td>\n",
       "      <td>1.606014</td>\n",
       "      <td>0.014959</td>\n",
       "      <td>0.000000</td>\n",
       "      <td>0.002634</td>\n",
       "      <td>...</td>\n",
       "      <td>1.666261</td>\n",
       "      <td>1.820350</td>\n",
       "      <td>1.943416</td>\n",
       "      <td>2.037957</td>\n",
       "      <td>2.108094</td>\n",
       "      <td>2.151168</td>\n",
       "      <td>2.166104</td>\n",
       "      <td>Beauregard</td>\n",
       "      <td>Beauregard</td>\n",
       "      <td>2006.0</td>\n",
       "    </tr>\n",
       "    <tr>\n",
       "      <th>1</th>\n",
       "      <td>18NCGT0014HCR_BEAUREGARD_G2_2006_NIR_V1_O0330.TIF</td>\n",
       "      <td>6.133998</td>\n",
       "      <td>5.888515</td>\n",
       "      <td>1.041688</td>\n",
       "      <td>1.060840</td>\n",
       "      <td>1.728726</td>\n",
       "      <td>3.062197</td>\n",
       "      <td>0.062868</td>\n",
       "      <td>0.455366</td>\n",
       "      <td>0.084486</td>\n",
       "      <td>...</td>\n",
       "      <td>3.839933</td>\n",
       "      <td>4.034333</td>\n",
       "      <td>4.195250</td>\n",
       "      <td>4.324056</td>\n",
       "      <td>4.420594</td>\n",
       "      <td>4.480280</td>\n",
       "      <td>4.494655</td>\n",
       "      <td>Beauregard</td>\n",
       "      <td>Beauregard</td>\n",
       "      <td>2006.0</td>\n",
       "    </tr>\n",
       "    <tr>\n",
       "      <th>2</th>\n",
       "      <td>18NCGT0014HCR_BEAUREGARD_G2_2006_NIR_V1_O0331.TIF</td>\n",
       "      <td>8.281046</td>\n",
       "      <td>7.945041</td>\n",
       "      <td>1.042291</td>\n",
       "      <td>1.059904</td>\n",
       "      <td>3.034478</td>\n",
       "      <td>2.520659</td>\n",
       "      <td>0.093875</td>\n",
       "      <td>0.080086</td>\n",
       "      <td>0.021007</td>\n",
       "      <td>...</td>\n",
       "      <td>5.162636</td>\n",
       "      <td>5.367787</td>\n",
       "      <td>5.530945</td>\n",
       "      <td>5.648264</td>\n",
       "      <td>5.733553</td>\n",
       "      <td>5.785321</td>\n",
       "      <td>5.803075</td>\n",
       "      <td>Beauregard</td>\n",
       "      <td>Beauregard</td>\n",
       "      <td>2006.0</td>\n",
       "    </tr>\n",
       "    <tr>\n",
       "      <th>3</th>\n",
       "      <td>18NCGT0014HCR_BEAUREGARD_G2_2006_NIR_V1_O0332.TIF</td>\n",
       "      <td>6.210201</td>\n",
       "      <td>6.055572</td>\n",
       "      <td>1.025535</td>\n",
       "      <td>1.060114</td>\n",
       "      <td>3.198603</td>\n",
       "      <td>1.742272</td>\n",
       "      <td>0.016396</td>\n",
       "      <td>0.285959</td>\n",
       "      <td>0.048687</td>\n",
       "      <td>...</td>\n",
       "      <td>2.758509</td>\n",
       "      <td>2.922875</td>\n",
       "      <td>3.062529</td>\n",
       "      <td>3.175475</td>\n",
       "      <td>3.257587</td>\n",
       "      <td>3.307421</td>\n",
       "      <td>3.323729</td>\n",
       "      <td>Beauregard</td>\n",
       "      <td>Beauregard</td>\n",
       "      <td>2006.0</td>\n",
       "    </tr>\n",
       "    <tr>\n",
       "      <th>4</th>\n",
       "      <td>18NCGT0014HCR_BEAUREGARD_G2_2006_NIR_V1_O0333.TIF</td>\n",
       "      <td>7.525784</td>\n",
       "      <td>7.154306</td>\n",
       "      <td>1.051924</td>\n",
       "      <td>1.068856</td>\n",
       "      <td>2.715011</td>\n",
       "      <td>2.580067</td>\n",
       "      <td>0.019271</td>\n",
       "      <td>0.019271</td>\n",
       "      <td>0.005121</td>\n",
       "      <td>...</td>\n",
       "      <td>4.872829</td>\n",
       "      <td>5.088827</td>\n",
       "      <td>5.256542</td>\n",
       "      <td>5.376783</td>\n",
       "      <td>5.463988</td>\n",
       "      <td>5.516837</td>\n",
       "      <td>5.535205</td>\n",
       "      <td>Beauregard</td>\n",
       "      <td>Beauregard</td>\n",
       "      <td>2006.0</td>\n",
       "    </tr>\n",
       "  </tbody>\n",
       "</table>\n",
       "<p>5 rows × 79 columns</p>\n",
       "</div>"
      ],
      "text/plain": [
       "                                               Title  AxialLength  TipLength  \\\n",
       "0  18NCGT0014HCR_BEAUREGARD_G2_2006_NIR_V1_O0329.TIF     5.678797   5.476555   \n",
       "1  18NCGT0014HCR_BEAUREGARD_G2_2006_NIR_V1_O0330.TIF     6.133998   5.888515   \n",
       "2  18NCGT0014HCR_BEAUREGARD_G2_2006_NIR_V1_O0331.TIF     8.281046   7.945041   \n",
       "3  18NCGT0014HCR_BEAUREGARD_G2_2006_NIR_V1_O0332.TIF     6.210201   6.055572   \n",
       "4  18NCGT0014HCR_BEAUREGARD_G2_2006_NIR_V1_O0333.TIF     7.525784   7.154306   \n",
       "\n",
       "   Curvature  CurvatuerCorrected  MaxDiameter   LWRatio     Tail1     Tail2  \\\n",
       "0   1.036929            1.049038     3.361789  1.606014  0.014959  0.000000   \n",
       "1   1.041688            1.060840     1.728726  3.062197  0.062868  0.455366   \n",
       "2   1.042291            1.059904     3.034478  2.520659  0.093875  0.080086   \n",
       "3   1.025535            1.060114     3.198603  1.742272  0.016396  0.285959   \n",
       "4   1.051924            1.068856     2.715011  2.580067  0.019271  0.019271   \n",
       "\n",
       "    TailPct  ...    Dist25    Dist26    Dist27    Dist28    Dist29    Dist30  \\\n",
       "0  0.002634  ...  1.666261  1.820350  1.943416  2.037957  2.108094  2.151168   \n",
       "1  0.084486  ...  3.839933  4.034333  4.195250  4.324056  4.420594  4.480280   \n",
       "2  0.021007  ...  5.162636  5.367787  5.530945  5.648264  5.733553  5.785321   \n",
       "3  0.048687  ...  2.758509  2.922875  3.062529  3.175475  3.257587  3.307421   \n",
       "4  0.005121  ...  4.872829  5.088827  5.256542  5.376783  5.463988  5.516837   \n",
       "\n",
       "     Dist31       Clone    Cultivar  PlotNum  \n",
       "0  2.166104  Beauregard  Beauregard   2006.0  \n",
       "1  4.494655  Beauregard  Beauregard   2006.0  \n",
       "2  5.803075  Beauregard  Beauregard   2006.0  \n",
       "3  3.323729  Beauregard  Beauregard   2006.0  \n",
       "4  5.535205  Beauregard  Beauregard   2006.0  \n",
       "\n",
       "[5 rows x 79 columns]"
      ]
     },
     "execution_count": 3,
     "metadata": {},
     "output_type": "execute_result"
    }
   ],
   "source": [
    "df=pd.read_csv(filepath)\n",
    "df.head()"
   ]
  },
  {
   "cell_type": "markdown",
   "metadata": {},
   "source": [
    "## Filter Sweetpotatoes from Kinston\n",
    "We used this code to identify unique plots in Kinston"
   ]
  },
  {
   "cell_type": "code",
   "execution_count": 5,
   "metadata": {},
   "outputs": [],
   "source": [
    "tmp=df\n",
    "tmp=tmp[tmp.Location=='Kinston']\n",
    "r=tmp.PlotNum.unique()\n",
    "r=r[~np.isnan(r)]\n",
    "m=[int(x) for x in r]\n"
   ]
  },
  {
   "cell_type": "markdown",
   "metadata": {},
   "source": [
    "## Selecting a subset of features"
   ]
  },
  {
   "cell_type": "code",
   "execution_count": 6,
   "metadata": {},
   "outputs": [],
   "source": [
    "df=df[['Title','Location','CurvatuerCorrected','Cultivar','MaxDiameter','LWRatio','TailPct']]\n"
   ]
  },
  {
   "cell_type": "code",
   "execution_count": 7,
   "metadata": {},
   "outputs": [],
   "source": [
    "df=df.rename(columns={\"CurvatuerCorrected\": \"Curvature\"})"
   ]
  },
  {
   "cell_type": "markdown",
   "metadata": {},
   "source": [
    "## Filtering certain cultivars"
   ]
  },
  {
   "cell_type": "code",
   "execution_count": 8,
   "metadata": {},
   "outputs": [],
   "source": [
    "cultivars= ['Beauregard','Bellevue','Burgundy','Covington']\n",
    "pattern='|'.join(cultivars)\n",
    "df=df[df.Location=='Clinton']"
   ]
  },
  {
   "cell_type": "code",
   "execution_count": 9,
   "metadata": {},
   "outputs": [
    {
     "data": {
      "text/plain": [
       "(6888, 7)"
      ]
     },
     "execution_count": 9,
     "metadata": {},
     "output_type": "execute_result"
    }
   ],
   "source": [
    "df.shape"
   ]
  },
  {
   "cell_type": "markdown",
   "metadata": {},
   "source": [
    "List of cultivars in our data"
   ]
  },
  {
   "cell_type": "code",
   "execution_count": 10,
   "metadata": {},
   "outputs": [
    {
     "data": {
      "text/plain": [
       "array(['Beauregard', 'Bellevue', 'Burgundy', 'Covington', 'L13-81',\n",
       "       'L13-84', 'L417', 'L445', 'NC04-0531', 'NC05-0198', 'NC09-0122C1',\n",
       "       'NC10-0118M25', 'Orleans', 'NC10-0118M28_G2', nan, 'Orleans_G2',\n",
       "       'Covington_G2', 'Beauregard_G2', 'NC15-0185', 'NC08-0036',\n",
       "       'NC10-0118M28'], dtype=object)"
      ]
     },
     "execution_count": 10,
     "metadata": {},
     "output_type": "execute_result"
    }
   ],
   "source": [
    "df['Cultivar'].unique()"
   ]
  },
  {
   "cell_type": "code",
   "execution_count": 13,
   "metadata": {},
   "outputs": [],
   "source": [
    "df=df[df.Cultivar.str.contains(pattern)==True]\n",
    "sb.set(font_scale=1,font='Arial')\n",
    "sb.set_style(\"white\")"
   ]
  },
  {
   "cell_type": "code",
   "execution_count": 12,
   "metadata": {},
   "outputs": [
    {
     "data": {
      "text/plain": [
       "(6888, 7)"
      ]
     },
     "execution_count": 12,
     "metadata": {},
     "output_type": "execute_result"
    }
   ],
   "source": [
    "df.shape"
   ]
  },
  {
   "cell_type": "code",
   "execution_count": 15,
   "metadata": {},
   "outputs": [],
   "source": [
    "df=df.replace('Beauregard_G2', 'Beauregard')\n",
    "df=df.replace('Covington_G2', 'Covington')"
   ]
  },
  {
   "cell_type": "markdown",
   "metadata": {},
   "source": [
    "## Visualize feature distribution\n",
    "Plotting features across the four selected cultivars"
   ]
  },
  {
   "cell_type": "code",
   "execution_count": 16,
   "metadata": {
    "scrolled": false
   },
   "outputs": [
    {
     "data": {
      "image/png": "[encoded data removed]",
      "text/plain": [
       "<Figure size 518.4x288 with 2 Axes>"
      ]
     },
     "metadata": {},
     "output_type": "display_data"
    }
   ],
   "source": [
    "import matplotlib.pyplot as plt\n",
    "\n",
    "df=df.replace('Beauregard_G2', 'Beauregard')\n",
    "df=df.replace('Covington_G2', 'Covington')\n",
    "df.Cultivar.unique()\n",
    "\n",
    "f, axes = plt.subplots(1, 2,figsize = (7.2,4))\n",
    "\n",
    "plt.rcParams[\"axes.labelsize\"] = 9\n",
    "\n",
    "sb.boxplot(x='Cultivar',y='Curvature',data=df,ax=axes[0])\n",
    "sb.boxplot(x='Cultivar',y='MaxDiameter',data=df,ax=axes[1])\n",
    "axes[1].set( ylabel='Width (inches)')\n",
    "\n",
    "for ax in plt.gcf().axes:\n",
    "    l = ax.get_xlabel()\n",
    "    ax.set_xlabel(l, fontsize=10)\n",
    "\n",
    "for tick in axes[0].xaxis.get_major_ticks():\n",
    "    tick.label.set_fontsize(10)\n",
    "\n",
    "for tick in axes[0].yaxis.get_major_ticks():\n",
    "    tick.label.set_fontsize(10)\n",
    "\n",
    "for tick in axes[1].xaxis.get_major_ticks():\n",
    "    tick.label.set_fontsize(10)\n",
    "\n",
    "for tick in axes[1].yaxis.get_major_ticks():\n",
    "    tick.label.set_fontsize(10)\n",
    "\n",
    "\n",
    "#f.set_size_inches(5,4)\n",
    "axes[0] .text(-0.8,1.95,'A', fontsize=12,fontweight='bold')\n",
    "axes[1] .text(-0.8,6.85,'B', fontsize=12,fontweight='bold')\n",
    "plt.savefig('cultivar_sp_features.eps', \n",
    "           transparent=False)\n"
   ]
  },
  {
   "cell_type": "markdown",
   "metadata": {},
   "source": [
    "Ploting Weigths of Sweetpotaotoes "
   ]
  },
  {
   "cell_type": "code",
   "execution_count": null,
   "metadata": {},
   "outputs": [],
   "source": [
    "import matplotlib.pyplot as plt\n",
    "df=pd.read_csv('Supporting File 3.csv')\n",
    "df[\"Weight\"]=df[\"Volume\"]*15.6425\n",
    "plt.rcParams[\"axes.labelsize\"] = 9\n",
    "\n",
    "s=sb.boxplot(x='Shape',y='Weight',data=df)\n",
    "\n",
    "#sb.boxplot(x='Cultivar',y='MaxDiameter',data=df,ax=axes[1])\n",
    "#axes[1].set( ylabel='Width (inches)')\n",
    "fig = plt.gcf()\n",
    "fig.set_size_inches(2.5,2.5)\n",
    "for ax in plt.gcf().axes:\n",
    "    l = ax.get_xlabel()\n",
    "    ax.set_xlabel(l, fontsize=10)\n",
    "axes = plt.gca()\n",
    "for tick in axes.xaxis.get_major_ticks():\n",
    "    tick.label.set_fontsize(10)\n",
    "\n",
    "plt.ylabel('Weight (grams)', fontsize=12)\n",
    "plt.xlabel('Shape', fontsize=12)\n",
    "#f.set_size_inches(5,4)\n",
    "#axes[0] .text(-0.8,1.95,'A', fontsize=12,fontweight='bold')\n",
    "#axes[1] .text(-0.8,6.85,'B', fontsize=12,fontweight='bold')\n",
    "plt.savefig('cultivar_weight_features.eps', \n",
    "           transparent=False)\n"
   ]
  }
 ],
 "metadata": {
  "kernelspec": {
   "display_name": "Python 3",
   "language": "python",
   "name": "python3"
  },
  "language_info": {
   "codemirror_mode": {
    "name": "ipython",
    "version": 3
   },
   "file_extension": ".py",
   "mimetype": "text/x-python",
   "name": "python",
   "nbconvert_exporter": "python",
   "pygments_lexer": "ipython3",
   "version": "3.7.3"
  }
 },
 "nbformat": 4,
 "nbformat_minor": 2
}
